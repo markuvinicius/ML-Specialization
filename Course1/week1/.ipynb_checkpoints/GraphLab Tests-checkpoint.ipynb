{
 "cells": [
  {
   "cell_type": "markdown",
   "metadata": {},
   "source": [
    "# Importa a biblioteca graphlab e define a licença de uso do produto"
   ]
  },
  {
   "cell_type": "code",
   "execution_count": 83,
   "metadata": {},
   "outputs": [
    {
     "data": {
      "text/plain": [
       "'46E8-6190-22CF-D938-828F-2E39-75FF-4DEB'"
      ]
     },
     "execution_count": 83,
     "metadata": {},
     "output_type": "execute_result"
    }
   ],
   "source": [
    "import graphlab\n",
    "graphlab.product_key.set_product_key('46E8-6190-22CF-D938-828F-2E39-75FF-4DEB')\n",
    "\n",
    "# output active product key\n",
    "graphlab.product_key.get_product_key()"
   ]
  },
  {
   "cell_type": "markdown",
   "metadata": {},
   "source": [
    "# Importa arquivo de dados do twitter"
   ]
  },
  {
   "cell_type": "code",
   "execution_count": 42,
   "metadata": {},
   "outputs": [
    {
     "data": {
      "text/html": [
       "<pre>Finished parsing file /Users/Marku/Documents/data_center/WorkSpace/ML-Specialization/Course1/week1/twitter_data_wcry.csv</pre>"
      ],
      "text/plain": [
       "Finished parsing file /Users/Marku/Documents/data_center/WorkSpace/ML-Specialization/Course1/week1/twitter_data_wcry.csv"
      ]
     },
     "metadata": {},
     "output_type": "display_data"
    },
    {
     "data": {
      "text/html": [
       "<pre>Parsing completed. Parsed 100 lines in 0.015226 secs.</pre>"
      ],
      "text/plain": [
       "Parsing completed. Parsed 100 lines in 0.015226 secs."
      ]
     },
     "metadata": {},
     "output_type": "display_data"
    },
    {
     "name": "stdout",
     "output_type": "stream",
     "text": [
      "------------------------------------------------------\n",
      "Inferred types from first 100 line(s) of file as \n",
      "column_type_hints=[str,int,str,str,int,str,int,int,float,float]\n",
      "If parsing fails due to incorrect types, you can correct\n",
      "the inferred type list above and pass it to read_csv in\n",
      "the column_type_hints argument\n",
      "------------------------------------------------------\n"
     ]
    },
    {
     "data": {
      "text/html": [
       "<pre>Finished parsing file /Users/Marku/Documents/data_center/WorkSpace/ML-Specialization/Course1/week1/twitter_data_wcry.csv</pre>"
      ],
      "text/plain": [
       "Finished parsing file /Users/Marku/Documents/data_center/WorkSpace/ML-Specialization/Course1/week1/twitter_data_wcry.csv"
      ]
     },
     "metadata": {},
     "output_type": "display_data"
    },
    {
     "data": {
      "text/html": [
       "<pre>Parsing completed. Parsed 578 lines in 0.015616 secs.</pre>"
      ],
      "text/plain": [
       "Parsing completed. Parsed 578 lines in 0.015616 secs."
      ]
     },
     "metadata": {},
     "output_type": "display_data"
    },
    {
     "data": {
      "text/html": [
       "<div style=\"max-height:1000px;max-width:1500px;overflow:auto;\"><table frame=\"box\" rules=\"cols\">\n",
       "    <tr>\n",
       "        <th style=\"padding-left: 1em; padding-right: 1em; text-align: center\">username</th>\n",
       "        <th style=\"padding-left: 1em; padding-right: 1em; text-align: center\">author id</th>\n",
       "        <th style=\"padding-left: 1em; padding-right: 1em; text-align: center\">created</th>\n",
       "        <th style=\"padding-left: 1em; padding-right: 1em; text-align: center\">text</th>\n",
       "        <th style=\"padding-left: 1em; padding-right: 1em; text-align: center\">retwc</th>\n",
       "        <th style=\"padding-left: 1em; padding-right: 1em; text-align: center\">hashtag</th>\n",
       "    </tr>\n",
       "    <tr>\n",
       "        <td style=\"padding-left: 1em; padding-right: 1em; text-align: center; vertical-align: top\">b'Sky News'</td>\n",
       "        <td style=\"padding-left: 1em; padding-right: 1em; text-align: center; vertical-align: top\">7587032</td>\n",
       "        <td style=\"padding-left: 1em; padding-right: 1em; text-align: center; vertical-align: top\">2017-05-12 20:23:08</td>\n",
       "        <td style=\"padding-left: 1em; padding-right: 1em; text-align: center; vertical-align: top\">b'74 countries worldwide<br>have now been targete ...</td>\n",
       "        <td style=\"padding-left: 1em; padding-right: 1em; text-align: center; vertical-align: top\">364</td>\n",
       "        <td style=\"padding-left: 1em; padding-right: 1em; text-align: center; vertical-align: top\">None</td>\n",
       "    </tr>\n",
       "    <tr>\n",
       "        <td style=\"padding-left: 1em; padding-right: 1em; text-align: center; vertical-align: top\">b'Daily Mail Online'</td>\n",
       "        <td style=\"padding-left: 1em; padding-right: 1em; text-align: center; vertical-align: top\">15438913</td>\n",
       "        <td style=\"padding-left: 1em; padding-right: 1em; text-align: center; vertical-align: top\">2017-05-13 11:04:38</td>\n",
       "        <td style=\"padding-left: 1em; padding-right: 1em; text-align: center; vertical-align: top\">b\"99 countries are hit by<br>75,000 attacks using NSA ...</td>\n",
       "        <td style=\"padding-left: 1em; padding-right: 1em; text-align: center; vertical-align: top\">120</td>\n",
       "        <td style=\"padding-left: 1em; padding-right: 1em; text-align: center; vertical-align: top\">None</td>\n",
       "    </tr>\n",
       "    <tr>\n",
       "        <td style=\"padding-left: 1em; padding-right: 1em; text-align: center; vertical-align: top\">b'Bloomberg'</td>\n",
       "        <td style=\"padding-left: 1em; padding-right: 1em; text-align: center; vertical-align: top\">34713362</td>\n",
       "        <td style=\"padding-left: 1em; padding-right: 1em; text-align: center; vertical-align: top\">2017-05-13 04:22:46</td>\n",
       "        <td style=\"padding-left: 1em; padding-right: 1em; text-align: center; vertical-align: top\">b'Global cyber-attack is<br>likely to continue to ...</td>\n",
       "        <td style=\"padding-left: 1em; padding-right: 1em; text-align: center; vertical-align: top\">70</td>\n",
       "        <td style=\"padding-left: 1em; padding-right: 1em; text-align: center; vertical-align: top\">None</td>\n",
       "    </tr>\n",
       "    <tr>\n",
       "        <td style=\"padding-left: 1em; padding-right: 1em; text-align: center; vertical-align: top\">b'Enrico Valenzuela'</td>\n",
       "        <td style=\"padding-left: 1em; padding-right: 1em; text-align: center; vertical-align: top\">860362016</td>\n",
       "        <td style=\"padding-left: 1em; padding-right: 1em; text-align: center; vertical-align: top\">2017-05-14 20:12:01</td>\n",
       "        <td style=\"padding-left: 1em; padding-right: 1em; text-align: center; vertical-align: top\">b'RT @TopCyberNews:<br>Global #cyberattack u ...</td>\n",
       "        <td style=\"padding-left: 1em; padding-right: 1em; text-align: center; vertical-align: top\">68</td>\n",
       "        <td style=\"padding-left: 1em; padding-right: 1em; text-align: center; vertical-align: top\">cyberattack</td>\n",
       "    </tr>\n",
       "    <tr>\n",
       "        <td style=\"padding-left: 1em; padding-right: 1em; text-align: center; vertical-align: top\">b'Richard Doyle'</td>\n",
       "        <td style=\"padding-left: 1em; padding-right: 1em; text-align: center; vertical-align: top\">2368002708</td>\n",
       "        <td style=\"padding-left: 1em; padding-right: 1em; text-align: center; vertical-align: top\">2017-05-14 20:11:28</td>\n",
       "        <td style=\"padding-left: 1em; padding-right: 1em; text-align: center; vertical-align: top\">b'Monday Could Bring More<br>Disruptions From Global ...</td>\n",
       "        <td style=\"padding-left: 1em; padding-right: 1em; text-align: center; vertical-align: top\">0</td>\n",
       "        <td style=\"padding-left: 1em; padding-right: 1em; text-align: center; vertical-align: top\">None</td>\n",
       "    </tr>\n",
       "    <tr>\n",
       "        <td style=\"padding-left: 1em; padding-right: 1em; text-align: center; vertical-align: top\">b'Doyle Industries'</td>\n",
       "        <td style=\"padding-left: 1em; padding-right: 1em; text-align: center; vertical-align: top\">852667086</td>\n",
       "        <td style=\"padding-left: 1em; padding-right: 1em; text-align: center; vertical-align: top\">2017-05-14 20:11:21</td>\n",
       "        <td style=\"padding-left: 1em; padding-right: 1em; text-align: center; vertical-align: top\">b'Monday Could Bring More<br>Disruptions From Global ...</td>\n",
       "        <td style=\"padding-left: 1em; padding-right: 1em; text-align: center; vertical-align: top\">0</td>\n",
       "        <td style=\"padding-left: 1em; padding-right: 1em; text-align: center; vertical-align: top\">None</td>\n",
       "    </tr>\n",
       "    <tr>\n",
       "        <td style=\"padding-left: 1em; padding-right: 1em; text-align: center; vertical-align: top\">b'Enrico Valenzuela'</td>\n",
       "        <td style=\"padding-left: 1em; padding-right: 1em; text-align: center; vertical-align: top\">860362016</td>\n",
       "        <td style=\"padding-left: 1em; padding-right: 1em; text-align: center; vertical-align: top\">2017-05-14 20:10:07</td>\n",
       "        <td style=\"padding-left: 1em; padding-right: 1em; text-align: center; vertical-align: top\">b'https://t.co/kBvwZBQ1B6<br>' ...</td>\n",
       "        <td style=\"padding-left: 1em; padding-right: 1em; text-align: center; vertical-align: top\">0</td>\n",
       "        <td style=\"padding-left: 1em; padding-right: 1em; text-align: center; vertical-align: top\">None</td>\n",
       "    </tr>\n",
       "    <tr>\n",
       "        <td style=\"padding-left: 1em; padding-right: 1em; text-align: center; vertical-align: top\">b'Breda foley'</td>\n",
       "        <td style=\"padding-left: 1em; padding-right: 1em; text-align: center; vertical-align: top\">3864204795</td>\n",
       "        <td style=\"padding-left: 1em; padding-right: 1em; text-align: center; vertical-align: top\">2017-05-14 20:09:38</td>\n",
       "        <td style=\"padding-left: 1em; padding-right: 1em; text-align: center; vertical-align: top\">b'RT @TopCyberNews:<br>Global #cyberattack u ...</td>\n",
       "        <td style=\"padding-left: 1em; padding-right: 1em; text-align: center; vertical-align: top\">68</td>\n",
       "        <td style=\"padding-left: 1em; padding-right: 1em; text-align: center; vertical-align: top\">cyberattack</td>\n",
       "    </tr>\n",
       "    <tr>\n",
       "        <td style=\"padding-left: 1em; padding-right: 1em; text-align: center; vertical-align: top\">b'Thomas Mann Miller'</td>\n",
       "        <td style=\"padding-left: 1em; padding-right: 1em; text-align: center; vertical-align: top\">74368972</td>\n",
       "        <td style=\"padding-left: 1em; padding-right: 1em; text-align: center; vertical-align: top\">2017-05-14 20:08:19</td>\n",
       "        <td style=\"padding-left: 1em; padding-right: 1em; text-align: center; vertical-align: top\">b\"RT @DanielSolove:<br>Global ransomware attack ...</td>\n",
       "        <td style=\"padding-left: 1em; padding-right: 1em; text-align: center; vertical-align: top\">4</td>\n",
       "        <td style=\"padding-left: 1em; padding-right: 1em; text-align: center; vertical-align: top\">None</td>\n",
       "    </tr>\n",
       "    <tr>\n",
       "        <td style=\"padding-left: 1em; padding-right: 1em; text-align: center; vertical-align: top\">b'Caroline Jayne Lomas'</td>\n",
       "        <td style=\"padding-left: 1em; padding-right: 1em; text-align: center; vertical-align: top\">302559677</td>\n",
       "        <td style=\"padding-left: 1em; padding-right: 1em; text-align: center; vertical-align: top\">2017-05-14 20:07:32</td>\n",
       "        <td style=\"padding-left: 1em; padding-right: 1em; text-align: center; vertical-align: top\">b\"RT @micklesb: CYBER<br>ATTACK: Chesterfield ...</td>\n",
       "        <td style=\"padding-left: 1em; padding-right: 1em; text-align: center; vertical-align: top\">4</td>\n",
       "        <td style=\"padding-left: 1em; padding-right: 1em; text-align: center; vertical-align: top\">None</td>\n",
       "    </tr>\n",
       "</table>\n",
       "<table frame=\"box\" rules=\"cols\">\n",
       "    <tr>\n",
       "        <th style=\"padding-left: 1em; padding-right: 1em; text-align: center\">followers</th>\n",
       "        <th style=\"padding-left: 1em; padding-right: 1em; text-align: center\">friends</th>\n",
       "        <th style=\"padding-left: 1em; padding-right: 1em; text-align: center\">polarity</th>\n",
       "        <th style=\"padding-left: 1em; padding-right: 1em; text-align: center\">subjectivity</th>\n",
       "    </tr>\n",
       "    <tr>\n",
       "        <td style=\"padding-left: 1em; padding-right: 1em; text-align: center; vertical-align: top\">4017578</td>\n",
       "        <td style=\"padding-left: 1em; padding-right: 1em; text-align: center; vertical-align: top\">15</td>\n",
       "        <td style=\"padding-left: 1em; padding-right: 1em; text-align: center; vertical-align: top\">0.0</td>\n",
       "        <td style=\"padding-left: 1em; padding-right: 1em; text-align: center; vertical-align: top\">0.0</td>\n",
       "    </tr>\n",
       "    <tr>\n",
       "        <td style=\"padding-left: 1em; padding-right: 1em; text-align: center; vertical-align: top\">1959132</td>\n",
       "        <td style=\"padding-left: 1em; padding-right: 1em; text-align: center; vertical-align: top\">2403</td>\n",
       "        <td style=\"padding-left: 1em; padding-right: 1em; text-align: center; vertical-align: top\">0.0</td>\n",
       "        <td style=\"padding-left: 1em; padding-right: 1em; text-align: center; vertical-align: top\">0.0</td>\n",
       "    </tr>\n",
       "    <tr>\n",
       "        <td style=\"padding-left: 1em; padding-right: 1em; text-align: center; vertical-align: top\">3928830</td>\n",
       "        <td style=\"padding-left: 1em; padding-right: 1em; text-align: center; vertical-align: top\">1001</td>\n",
       "        <td style=\"padding-left: 1em; padding-right: 1em; text-align: center; vertical-align: top\">0.166666666667</td>\n",
       "        <td style=\"padding-left: 1em; padding-right: 1em; text-align: center; vertical-align: top\">0.5</td>\n",
       "    </tr>\n",
       "    <tr>\n",
       "        <td style=\"padding-left: 1em; padding-right: 1em; text-align: center; vertical-align: top\">771</td>\n",
       "        <td style=\"padding-left: 1em; padding-right: 1em; text-align: center; vertical-align: top\">1897</td>\n",
       "        <td style=\"padding-left: 1em; padding-right: 1em; text-align: center; vertical-align: top\">0.05</td>\n",
       "        <td style=\"padding-left: 1em; padding-right: 1em; text-align: center; vertical-align: top\">0.15</td>\n",
       "    </tr>\n",
       "    <tr>\n",
       "        <td style=\"padding-left: 1em; padding-right: 1em; text-align: center; vertical-align: top\">581</td>\n",
       "        <td style=\"padding-left: 1em; padding-right: 1em; text-align: center; vertical-align: top\">1477</td>\n",
       "        <td style=\"padding-left: 1em; padding-right: 1em; text-align: center; vertical-align: top\">0.25</td>\n",
       "        <td style=\"padding-left: 1em; padding-right: 1em; text-align: center; vertical-align: top\">0.25</td>\n",
       "    </tr>\n",
       "    <tr>\n",
       "        <td style=\"padding-left: 1em; padding-right: 1em; text-align: center; vertical-align: top\">1265</td>\n",
       "        <td style=\"padding-left: 1em; padding-right: 1em; text-align: center; vertical-align: top\">1180</td>\n",
       "        <td style=\"padding-left: 1em; padding-right: 1em; text-align: center; vertical-align: top\">0.333333333333</td>\n",
       "        <td style=\"padding-left: 1em; padding-right: 1em; text-align: center; vertical-align: top\">0.333333333333</td>\n",
       "    </tr>\n",
       "    <tr>\n",
       "        <td style=\"padding-left: 1em; padding-right: 1em; text-align: center; vertical-align: top\">771</td>\n",
       "        <td style=\"padding-left: 1em; padding-right: 1em; text-align: center; vertical-align: top\">1897</td>\n",
       "        <td style=\"padding-left: 1em; padding-right: 1em; text-align: center; vertical-align: top\">0.0</td>\n",
       "        <td style=\"padding-left: 1em; padding-right: 1em; text-align: center; vertical-align: top\">0.0</td>\n",
       "    </tr>\n",
       "    <tr>\n",
       "        <td style=\"padding-left: 1em; padding-right: 1em; text-align: center; vertical-align: top\">6</td>\n",
       "        <td style=\"padding-left: 1em; padding-right: 1em; text-align: center; vertical-align: top\">62</td>\n",
       "        <td style=\"padding-left: 1em; padding-right: 1em; text-align: center; vertical-align: top\">0.05</td>\n",
       "        <td style=\"padding-left: 1em; padding-right: 1em; text-align: center; vertical-align: top\">0.15</td>\n",
       "    </tr>\n",
       "    <tr>\n",
       "        <td style=\"padding-left: 1em; padding-right: 1em; text-align: center; vertical-align: top\">289</td>\n",
       "        <td style=\"padding-left: 1em; padding-right: 1em; text-align: center; vertical-align: top\">3389</td>\n",
       "        <td style=\"padding-left: 1em; padding-right: 1em; text-align: center; vertical-align: top\">0.0</td>\n",
       "        <td style=\"padding-left: 1em; padding-right: 1em; text-align: center; vertical-align: top\">0.0</td>\n",
       "    </tr>\n",
       "    <tr>\n",
       "        <td style=\"padding-left: 1em; padding-right: 1em; text-align: center; vertical-align: top\">28</td>\n",
       "        <td style=\"padding-left: 1em; padding-right: 1em; text-align: center; vertical-align: top\">88</td>\n",
       "        <td style=\"padding-left: 1em; padding-right: 1em; text-align: center; vertical-align: top\">0.0</td>\n",
       "        <td style=\"padding-left: 1em; padding-right: 1em; text-align: center; vertical-align: top\">0.0</td>\n",
       "    </tr>\n",
       "</table>\n",
       "[10 rows x 10 columns]<br/>\n",
       "</div>"
      ],
      "text/plain": [
       "Columns:\n",
       "\tusername\tstr\n",
       "\tauthor id\tint\n",
       "\tcreated\tstr\n",
       "\ttext\tstr\n",
       "\tretwc\tint\n",
       "\thashtag\tstr\n",
       "\tfollowers\tint\n",
       "\tfriends\tint\n",
       "\tpolarity\tfloat\n",
       "\tsubjectivity\tfloat\n",
       "\n",
       "Rows: 10\n",
       "\n",
       "Data:\n",
       "+-------------------------+------------+---------------------+\n",
       "|         username        | author id  |       created       |\n",
       "+-------------------------+------------+---------------------+\n",
       "|       b'Sky News'       |  7587032   | 2017-05-12 20:23:08 |\n",
       "|   b'Daily Mail Online'  |  15438913  | 2017-05-13 11:04:38 |\n",
       "|       b'Bloomberg'      |  34713362  | 2017-05-13 04:22:46 |\n",
       "|   b'Enrico Valenzuela'  | 860362016  | 2017-05-14 20:12:01 |\n",
       "|     b'Richard Doyle'    | 2368002708 | 2017-05-14 20:11:28 |\n",
       "|   b'Doyle Industries'   | 852667086  | 2017-05-14 20:11:21 |\n",
       "|   b'Enrico Valenzuela'  | 860362016  | 2017-05-14 20:10:07 |\n",
       "|      b'Breda foley'     | 3864204795 | 2017-05-14 20:09:38 |\n",
       "|  b'Thomas Mann Miller'  |  74368972  | 2017-05-14 20:08:19 |\n",
       "| b'Caroline Jayne Lomas' | 302559677  | 2017-05-14 20:07:32 |\n",
       "+-------------------------+------------+---------------------+\n",
       "+-------------------------------+-------+-------------+-----------+---------+\n",
       "|              text             | retwc |   hashtag   | followers | friends |\n",
       "+-------------------------------+-------+-------------+-----------+---------+\n",
       "| b'74 countries worldwide h... |  364  |     None    |  4017578  |    15   |\n",
       "| b\"99 countries are hit by ... |  120  |     None    |  1959132  |   2403  |\n",
       "| b'Global cyber-attack is l... |   70  |     None    |  3928830  |   1001  |\n",
       "| b'RT @TopCyberNews: Global... |   68  | cyberattack |    771    |   1897  |\n",
       "| b'Monday Could Bring More ... |   0   |     None    |    581    |   1477  |\n",
       "| b'Monday Could Bring More ... |   0   |     None    |    1265   |   1180  |\n",
       "|   b'https://t.co/kBvwZBQ1B6'  |   0   |     None    |    771    |   1897  |\n",
       "| b'RT @TopCyberNews: Global... |   68  | cyberattack |     6     |    62   |\n",
       "| b\"RT @DanielSolove: Global... |   4   |     None    |    289    |   3389  |\n",
       "| b\"RT @micklesb: CYBER ATTA... |   4   |     None    |     28    |    88   |\n",
       "+-------------------------------+-------+-------------+-----------+---------+\n",
       "+----------------+----------------+\n",
       "|    polarity    |  subjectivity  |\n",
       "+----------------+----------------+\n",
       "|      0.0       |      0.0       |\n",
       "|      0.0       |      0.0       |\n",
       "| 0.166666666667 |      0.5       |\n",
       "|      0.05      |      0.15      |\n",
       "|      0.25      |      0.25      |\n",
       "| 0.333333333333 | 0.333333333333 |\n",
       "|      0.0       |      0.0       |\n",
       "|      0.05      |      0.15      |\n",
       "|      0.0       |      0.0       |\n",
       "|      0.0       |      0.0       |\n",
       "+----------------+----------------+\n",
       "[10 rows x 10 columns]"
      ]
     },
     "execution_count": 42,
     "metadata": {},
     "output_type": "execute_result"
    }
   ],
   "source": [
    "sf = graphlab.SFrame('twitter_data_wcry.csv')\n",
    "sf.head()"
   ]
  },
  {
   "cell_type": "markdown",
   "metadata": {},
   "source": [
    "# Inicia o modo canvas do graphlab"
   ]
  },
  {
   "cell_type": "code",
   "execution_count": 51,
   "metadata": {},
   "outputs": [
    {
     "name": "stdout",
     "output_type": "stream",
     "text": [
      "Canvas is updated and available in a tab in the default browser.\n"
     ]
    }
   ],
   "source": [
    "sf.show()"
   ]
  },
  {
   "cell_type": "markdown",
   "metadata": {},
   "source": [
    "# Define função de limpeza das colunas de texto"
   ]
  },
  {
   "cell_type": "code",
   "execution_count": 47,
   "metadata": {
    "collapsed": true
   },
   "outputs": [],
   "source": [
    "clean_text_data = lambda text: text[2:-1]"
   ]
  },
  {
   "cell_type": "code",
   "execution_count": 52,
   "metadata": {},
   "outputs": [],
   "source": [
    "# arruma campo username\n",
    "sf['username'] = sf['username'].apply(clean_text_data)\n",
    "# arruma campo text\n",
    "sf['text'] = sf['text'].apply(clean_text_data)\n"
   ]
  },
  {
   "cell_type": "markdown",
   "metadata": {},
   "source": [
    "# Exploração gráfica das colunas"
   ]
  },
  {
   "cell_type": "code",
   "execution_count": null,
   "metadata": {
    "collapsed": true
   },
   "outputs": [],
   "source": []
  },
  {
   "cell_type": "code",
   "execution_count": 55,
   "metadata": {},
   "outputs": [],
   "source": [
    "graphlab.canvas.set_target('ipynb')"
   ]
  },
  {
   "cell_type": "code",
   "execution_count": 67,
   "metadata": {},
   "outputs": [
    {
     "data": {
      "application/javascript": [
       "$(\"head\").append($(\"<link/>\").attr({\n",
       "  rel:  \"stylesheet\",\n",
       "  type: \"text/css\",\n",
       "  href: \"//cdnjs.cloudflare.com/ajax/libs/font-awesome/4.1.0/css/font-awesome.min.css\"\n",
       "}));\n",
       "$(\"head\").append($(\"<link/>\").attr({\n",
       "  rel:  \"stylesheet\",\n",
       "  type: \"text/css\",\n",
       "  href: \"https://static.turi.com/products/graphlab-create/2.1/canvas/css/canvas.css\"\n",
       "}));\n",
       "\n",
       "            (function(){\n",
       "\n",
       "                var e = null;\n",
       "                if (typeof element == 'undefined') {\n",
       "                    var scripts = document.getElementsByTagName('script');\n",
       "                    var thisScriptTag = scripts[scripts.length-1];\n",
       "                    var parentDiv = thisScriptTag.parentNode;\n",
       "                    e = document.createElement('div');\n",
       "                    parentDiv.appendChild(e);\n",
       "                } else {\n",
       "                    e = element[0];\n",
       "                }\n",
       "\n",
       "                if (typeof requirejs !== 'undefined') {\n",
       "                    // disable load timeout; ipython_app.js is large and can take a while to load.\n",
       "                    requirejs.config({waitSeconds: 0});\n",
       "                }\n",
       "\n",
       "                require(['https://static.turi.com/products/graphlab-create/2.1/canvas/js/ipython_app.js'], function(IPythonApp){\n",
       "                    var app = new IPythonApp();\n",
       "                    app.attachView('sarray','Categorical', {\"ipython\": true, \"sketch\": {\"complete\": true, \"numeric\": false, \"num_unique\": 487, \"num_undefined\": 0, \"progress\": 1.0, \"frequent_items\": {\"\": {\"frequency\": 11, \"value\": \"\"}, \"d0\\\\x91\\\\xd1\\\\x80\\\\xd0\\\\xb0\\\\xd0\\\\xbd\\\\xd0\\\\xba\\\\xd0\\\\xbe \\\\xd0\\\\x9c\\\\xd0\\\\xb8\\\\xd1\\\\x85\\\\xd0\\\\xb8\\\\xd1\\\\x9\": {\"frequency\": 1, \"value\": \"d0\\\\x91\\\\xd1\\\\x80\\\\xd0 ...\"}, \"adley Meh\": {\"frequency\": 1, \"value\": \"adley Meh\"}, \"eMash New\": {\"frequency\": 1, \"value\": \"eMash New\"}, \"ster chie\": {\"frequency\": 1, \"value\": \"ster chie\"}, \"ordje Traj\\\\xc4\\\\x8devsk\": {\"frequency\": 1, \"value\": \"ordje ...\"}, \"d0\\\\x9d\\\\xd0\\\\xb5 \\\\xd1\\\\x80\\\\xd0\\\\xb5\\\\xd1\\\\x84\\\\xd0\\\\xbb\\\\xd0\\\\xb5\\\\xd0\\\\xba\\\\xd1\\\\x81\\\\xd0\\\\xb8\\\\xd1\\\\x80\\\\xd1\\\\x83\\\\xd0\\\\xb9\": {\"frequency\": 1, \"value\": \"d0\\\\x9d\\\\xd0\\\\xb5 \\\\xd ...\"}, \"\\\\xc3\\\\xa1vio Themothe\": {\"frequency\": 2, \"value\": \"\\\\xc3\\\\xa1vio ...\"}, \"st Firewall\": {\"frequency\": 1, \"value\": \"st Firewall\"}, \"arlie Appia\": {\"frequency\": 1, \"value\": \"arlie Appia\"}, \"t Pacheco \\\\xe2\\\\x99\\\\x9\": {\"frequency\": 1, \"value\": \"t Pacheco ...\"}, \"vien chao\": {\"frequency\": 1, \"value\": \"vien chao\"}, \"liant Tho\": {\"frequency\": 1, \"value\": \"liant Tho\"}, \"eRightSid\": {\"frequency\": 1, \"value\": \"eRightSid\"}, \"rk Horga\": {\"frequency\": 1, \"value\": \"rk Horga\"}, \"ivacy La\": {\"frequency\": 1, \"value\": \"ivacy La\"}, \"vid griffiths \\\\xf0\\\\x9f\\\\xa4\\\\x98\\\\xf0\\\\x9f\\\\xa4\\\\x9\": {\"frequency\": 1, \"value\": \"vid griffiths \\\\xf0 ...\"}, \"xc3\\\\xa1bi\": {\"frequency\": 2, \"value\": \"xc3\\\\xa1bi\"}, \"rDrakken \\\\xf0\\\\x9f\\\\x8c\\\\x88\\\\xf0\\\\x9f\\\\x8c\\\\x9f\\\\xf0\\\\x9f\\\\x8c\\\\x99\\\\xf0\\\\x9f\\\\x90\\\\x8\": {\"frequency\": 1, \"value\": \"rDrakken \\\\xf0\\\\x9f\\\\ ...\"}, \"ff Birnbac\": {\"frequency\": 1, \"value\": \"ff Birnbac\"}, \"ke Buckle\": {\"frequency\": 1, \"value\": \"ke Buckle\"}, \"A.C.MURUGAPPA\": {\"frequency\": 1, \"value\": \"A.C.MURUGAPPA\"}, \"rld new\": {\"frequency\": 2, \"value\": \"rld new\"}, \"ne A\": {\"frequency\": 1, \"value\": \"ne A\"}, \"ppilin\": {\"frequency\": 1, \"value\": \"ppilin\"}, \"rvin Clar\": {\"frequency\": 1, \"value\": \"rvin Clar\"}, \" Toda\": {\"frequency\": 1, \"value\": \" Toda\"}, \"eve Hausne\": {\"frequency\": 1, \"value\": \"eve Hausne\"}, \"rkrussell4\": {\"frequency\": 1, \"value\": \"rkrussell4\"}, \"roline Jayne Loma\": {\"frequency\": 1, \"value\": \"roline Jayne Loma\"}, \"d8\\\\xaf.\\\\xd8\\\\xad\\\\xd8\\\\xa7\\\\xd9\\\\x85\\\\xd8\\\\xaf\\\\xd8\\\\xb9\\\\xd8\\\\xa8\\\\xd8\\\\xaf\\\\xd8\\\\xa7\\\\xd9\\\\x84\\\\xd8\\\\xb1\\\\xd8\\\\xa4\\\\xd9\\\\x88\\\\xd9\\\\x81 \\\\xd8\\\\xb5\\\\xd8\\\\xa7\\\\xd9\\\\x84\\\\xd8\\\\xa\": {\"frequency\": 1, \"value\": \"d8\\\\xaf.\\\\xd8\\\\xad\\\\xd ...\"}, \"rotoki 1639w109\": {\"frequency\": 1, \"value\": \"rotoki 1639w109\"}, \"f0\\\\x9f\\\\x91\\\\x80L\\\\xf0\\\\x9f\\\\x91\\\\x81\": {\"frequency\": 1, \"value\": \"f0\\\\x9f\\\\x91\\\\x80L\\\\xf ...\"}, \"dotnew\": {\"frequency\": 1, \"value\": \"dotnew\"}, \"eister Gilgrim \\\\xf0\\\\x9f\\\\x97\\\\xa1\\\\xef\\\\xb8\\\\x8\": {\"frequency\": 1, \"value\": \"eister Gilgrim \\\\xf ...\"}, \"m Fitzhug\": {\"frequency\": 1, \"value\": \"m Fitzhug\"}, \"ef\\\\xbd\\\\x87\\\\xef\\\\xbd\\\\x89\\\\xef\\\\xbd\\\\x81\\\\xef\\\\xbd\\\\x8e\\\\xef\\\\xbd\\\\x94 dumb\": {\"frequency\": 1, \"value\": \"ef\\\\xbd\\\\x87\\\\xef\\\\xbd ...\"}, \"sh Cowl\": {\"frequency\": 1, \"value\": \"sh Cowl\"}, \"tes\": {\"frequency\": 1, \"value\": \"tes\"}, \"IT Training Lt\": {\"frequency\": 1, \"value\": \"IT Training Lt\"}, \"ileAxis In\": {\"frequency\": 1, \"value\": \"ileAxis In\"}, \"e State Of Networ\": {\"frequency\": 1, \"value\": \"e State Of Networ\"}, \"ily Mail Onlin\": {\"frequency\": 2, \"value\": \"ily Mail Onlin\"}, \"lanie aubi\": {\"frequency\": 1, \"value\": \"lanie aubi\"}, \"mmercial Appea\": {\"frequency\": 2, \"value\": \"mmercial Appea\"}, \"A Updat\": {\"frequency\": 2, \"value\": \"A Updat\"}, \"ris Romin\": {\"frequency\": 2, \"value\": \"ris Romin\"}, \"exandra A. \\\\xc4\\\\x8ceferi\": {\"frequency\": 1, \"value\": \"exandra A. ...\"}, \"disons CP\": {\"frequency\": 2, \"value\": \"disons CP\"}, \"ef\\\\xbc\\\\xb2\\\\xef\\\\xbc\\\\xaf\\\\xef\\\\xbc\\\\xb\": {\"frequency\": 1, \"value\": \"ef\\\\xbc\\\\xb2\\\\xef\\\\xbc ...\"}, \"m Lindsa\": {\"frequency\": 1, \"value\": \"m Lindsa\"}, \"n McMulle\": {\"frequency\": 1, \"value\": \"n McMulle\"}, \"n Lundgree\": {\"frequency\": 1, \"value\": \"n Lundgree\"}, \"nter Bonne\": {\"frequency\": 1, \"value\": \"nter Bonne\"}, \"ur Micro Medi\": {\"frequency\": 1, \"value\": \"ur Micro Medi\"}, \"k\": {\"frequency\": 1, \"value\": \"k\"}, \"ne Gutteru\": {\"frequency\": 1, \"value\": \"ne Gutteru\"}, \"blin Squad I\": {\"frequency\": 1, \"value\": \"blin Squad I\"}, \"dre\": {\"frequency\": 1, \"value\": \"dre\"}, \"rc Duchesn\": {\"frequency\": 1, \"value\": \"rc Duchesn\"}, \"itain Toda\": {\"frequency\": 1, \"value\": \"itain Toda\"}, \" Hype Righ\": {\"frequency\": 1, \"value\": \" Hype Righ\"}, \"ure Parago\": {\"frequency\": 1, \"value\": \"ure Parago\"}, \"chael Colema\": {\"frequency\": 1, \"value\": \"chael Colema\"}, \"ith&Co \\\\xe2\\\\x9a\\\\x96 \\\\xe2\\\\x84\\\\xa\": {\"frequency\": 1, \"value\": \"ith&Co ...\"}, \"tonio Saalamandra\": {\"frequency\": 2, \"value\": \"tonio Saalamandra\"}, \"nker\": {\"frequency\": 1, \"value\": \"nker\"}, \"m \": {\"frequency\": 1, \"value\": \"m\"}, \"nneGuir\": {\"frequency\": 1, \"value\": \"nneGuir\"}, \"edogwhoknewtoomuc\": {\"frequency\": 1, \"value\": \"edogwhoknewtoomuc\"}, \"cole \\\\xce\\\\x91\\\\xce\\\\xa\": {\"frequency\": 1, \"value\": \"cole ...\"}, \"arles Uffelma\": {\"frequency\": 1, \"value\": \"arles Uffelma\"}, \"ni Kalo\": {\"frequency\": 1, \"value\": \"ni Kalo\"}, \"iceu\": {\"frequency\": 1, \"value\": \"iceu\"}, \"berLucen\": {\"frequency\": 1, \"value\": \"berLucen\"}, \"rnard B. Keri\": {\"frequency\": 1, \"value\": \"rnard B. Keri\"}, \"e Davi\": {\"frequency\": 1, \"value\": \"e Davi\"}, \"ws Updat\": {\"frequency\": 2, \"value\": \"ws Updat\"}, \"ane Gan\": {\"frequency\": 1, \"value\": \"ane Gan\"}, \"an Olso\": {\"frequency\": 1, \"value\": \"an Olso\"}, \"me\": {\"frequency\": 1, \"value\": \"me\"}, \"ite.co\": {\"frequency\": 1, \"value\": \"ite.co\"}, \"oru Markso\": {\"frequency\": 1, \"value\": \"oru Markso\"}, \"mi\": {\"frequency\": 1, \"value\": \"mi\"}, \"yle Industrie\": {\"frequency\": 1, \"value\": \"yle Industrie\"}, \"_technews\": {\"frequency\": 2, \"value\": \"_technews\"}, \"deo\": {\"frequency\": 2, \"value\": \"deo\"}, \"lly \\\\xe2\\\\x9d\\\\xa4\\\\xef\\\\xb8\\\\x8fTrump/Penc\": {\"frequency\": 1, \"value\": \"lly \\\\xe2\\\\x9d\\\\xa4\\\\x ...\"}, \"aci Carne\": {\"frequency\": 1, \"value\": \"aci Carne\"}, \"ff Latoya Jone\": {\"frequency\": 1, \"value\": \"ff Latoya Jone\"}, \"orge Jedwsk\": {\"frequency\": 1, \"value\": \"orge Jedwsk\"}, \"ronian Consultin\": {\"frequency\": 1, \"value\": \"ronian Consultin\"}, \"doc on-lin\": {\"frequency\": 1, \"value\": \"doc on-lin\"}, \"chel steadma\": {\"frequency\": 1, \"value\": \"chel steadma\"}, \"nancial Expres\": {\"frequency\": 1, \"value\": \"nancial Expres\"}, \"ris  \\\\xf0\\\\x9f\\\\x87\\\\xba\\\\xf0\\\\x9f\\\\x87\\\\xb\": {\"frequency\": 1, \"value\": \"ris  \\\\xf0\\\\x9f\\\\x87\\\\ ...\"}, \"il Doyl\": {\"frequency\": 1, \"value\": \"il Doyl\"}, \"chard Doyl\": {\"frequency\": 1, \"value\": \"chard Doyl\"}, \"ti  MUF\": {\"frequency\": 1, \"value\": \"ti  MUF\"}, \"xc8\\\\xba\\\\xc5\\\\xa7\\\\xc5\\\\xa7\\\\xc9\\\\xa8\\\\xc8\\\\xbas W\\\\xc8\\\\xba\\\\xc8\\\\xbc\\\\xc4\\\\xa7\\\\xc5\\\\xa7m\\\\xc9\\\\x87\\\\xc9\\\\xa8s\\\\xc5\\\\xa7\\\\xc9\\\\x87\\\\xc9\\\\x8\": {\"frequency\": 1, \"value\": \"xc8\\\\xba\\\\xc5\\\\xa7\\\\xc ...\"}, \"eg Smit\": {\"frequency\": 1, \"value\": \"eg Smit\"}, \"an Diego Mesegue\": {\"frequency\": 1, \"value\": \"an Diego Mesegue\"}, \"d0\\\\xa1\\\\xd0\\\\xbe\\\\xd0\\\\xb2\\\\xd0\\\\xb5\\\\xd1\\\\x81\\\\xd1\\\\x82\\\\xd1\\\\x8\": {\"frequency\": 1, \"value\": \"d0\\\\xa1\\\\xd0\\\\xbe\\\\xd0 ...\"}, \"i Beritam\": {\"frequency\": 1, \"value\": \"i Beritam\"}, \"ron Lower\": {\"frequency\": 1, \"value\": \"ron Lower\"}, \"an Lang\": {\"frequency\": 1, \"value\": \"an Lang\"}, \"anley Epstei\": {\"frequency\": 1, \"value\": \"anley Epstei\"}, \"nundrum \\\\xf0\\\\x9f\\\\x8c\\\\x9\": {\"frequency\": 1, \"value\": \"nundrum ...\"}, \"a\": {\"frequency\": 1, \"value\": \"a\"}, \"vid Web\": {\"frequency\": 1, \"value\": \"vid Web\"}, \"st Minut\": {\"frequency\": 1, \"value\": \"st Minut\"}, \"chyma\": {\"frequency\": 1, \"value\": \"chyma\"}, \"st\": {\"frequency\": 1, \"value\": \"st\"}, \"ristin\": {\"frequency\": 1, \"value\": \"ristin\"}, \"ishamaza Rukikair\": {\"frequency\": 1, \"value\": \"ishamaza Rukikair\"}, \"ndw\": {\"frequency\": 1, \"value\": \"ndw\"}, \"ddy Owen\": {\"frequency\": 2, \"value\": \"ddy Owen\"}, \"rld News Streamin\": {\"frequency\": 2, \"value\": \"rld News Streamin\"}, \"acKnight Cybe\": {\"frequency\": 1, \"value\": \"acKnight Cybe\"}, \"il Zuitsh\": {\"frequency\": 1, \"value\": \"il Zuitsh\"}, \"rd Sith Sorla\": {\"frequency\": 1, \"value\": \"rd Sith Sorla\"}, \"cDea\": {\"frequency\": 1, \"value\": \"cDea\"}, \"rkley Bea\": {\"frequency\": 1, \"value\": \"rkley Bea\"}, \"ck Alert New\": {\"frequency\": 4, \"value\": \"ck Alert New\"}, \"16 recall aler\": {\"frequency\": 1, \"value\": \"16 recall aler\"}, \". OgunFUNw\": {\"frequency\": 1, \"value\": \". OgunFUNw\"}, \"ily Mail U\": {\"frequency\": 1, \"value\": \"ily Mail U\"}, \"njay9900\": {\"frequency\": 1, \"value\": \"njay9900\"}, \"ls\": {\"frequency\": 1, \"value\": \"ls\"}, \"utadaindigna\": {\"frequency\": 1, \"value\": \"utadaindigna\"}, \"li Boxing gu\": {\"frequency\": 1, \"value\": \"li Boxing gu\"}, \"bbie Le\": {\"frequency\": 1, \"value\": \"bbie Le\"}, \"dies 101.\": {\"frequency\": 1, \"value\": \"dies 101.\"}, \"OWOYEYE OLAITA\": {\"frequency\": 1, \"value\": \"OWOYEYE OLAITA\"}, \"M_S_WAYN\": {\"frequency\": 2, \"value\": \"M_S_WAYN\"}, \" Madwoma\": {\"frequency\": 1, \"value\": \" Madwoma\"}, \"rnando Herrer\": {\"frequency\": 1, \"value\": \"rnando Herrer\"}, \"cial Media Hu\": {\"frequency\": 1, \"value\": \"cial Media Hu\"}, \"ben Garci\": {\"frequency\": 1, \"value\": \"ben Garci\"}, \"xc3\\\\xa9j\\\\xc3\\\\xa0 V\": {\"frequency\": 1, \"value\": \"xc3\\\\xa9j\\\\xc3\\\\xa0 V\"}, \"litics4All.co\": {\"frequency\": 2, \"value\": \"litics4All.co\"}, \"spicient\": {\"frequency\": 1, \"value\": \"spicient\"}, \"man Taylo\": {\"frequency\": 1, \"value\": \"man Taylo\"}, \"itcher \\\\xe2\\\\x9d\\\\xa\": {\"frequency\": 1, \"value\": \"itcher \\\\xe2\\\\x9d\\\\xa\"}, \"Y Worl\": {\"frequency\": 1, \"value\": \"Y Worl\"}, \"nny BroJacqui\": {\"frequency\": 1, \"value\": \"nny BroJacqui\"}, \"ll-Libert\": {\"frequency\": 1, \"value\": \"ll-Libert\"}, \"eakingnews nigeri\": {\"frequency\": 1, \"value\": \"eakingnews nigeri\"}, \"kOh\": {\"frequency\": 1, \"value\": \"kOh\"}, \"eSecuritySolution\": {\"frequency\": 1, \"value\": \"eSecuritySolution\"}, \"ee\": {\"frequency\": 1, \"value\": \"ee\"}, \"y New\": {\"frequency\": 1, \"value\": \"y New\"}, \"nshin\": {\"frequency\": 1, \"value\": \"nshin\"}, \"wsl\": {\"frequency\": 2, \"value\": \"wsl\"}, \"med ElMowala\": {\"frequency\": 1, \"value\": \"med ElMowala\"}, \" Mom\": {\"frequency\": 1, \"value\": \" Mom\"}, \"HRIS\": {\"frequency\": 1, \"value\": \"HRIS\"}, \"skinf\": {\"frequency\": 1, \"value\": \"skinf\"}, \"ev\": {\"frequency\": 1, \"value\": \"ev\"}, \"niel J. Solov\": {\"frequency\": 1, \"value\": \"niel J. Solov\"}, \" House Democrat\": {\"frequency\": 1, \"value\": \" House Democrat\"}, \"ryl Sura\": {\"frequency\": 1, \"value\": \"ryl Sura\"}, \"iyu Makam\": {\"frequency\": 1, \"value\": \"iyu Makam\"}, \"anne, NYDeplorabl\": {\"frequency\": 1, \"value\": \"anne, NYDeplorabl\"}, \"bnaDajan\": {\"frequency\": 1, \"value\": \"bnaDajan\"}, \"ws JS Namibi\": {\"frequency\": 1, \"value\": \"ws JS Namibi\"}, \"rd\": {\"frequency\": 1, \"value\": \"rd\"}, \"breakableKimm\": {\"frequency\": 1, \"value\": \"breakableKimm\"}, \"Charles-Bagot\": {\"frequency\": 1, \"value\": \"Charles-Bagot\"}, \"f0\\\\x9f\\\\x87\\\\xb3\\\\xf0\\\\x9f\\\\x87\\\\xb1 Bladez \\\\xf0\\\\x9f\\\\x87\\\\xb3\\\\xf0\\\\x9f\\\\x87\\\\xb\": {\"frequency\": 1, \"value\": \"f0\\\\x9f\\\\x87\\\\xb3\\\\xf0 ...\"}, \"tonio J. Cab\": {\"frequency\": 1, \"value\": \"tonio J. Cab\"}, \"nde Olowoyey\": {\"frequency\": 2, \"value\": \"nde Olowoyey\"}, \"aham Faircloug\": {\"frequency\": 1, \"value\": \"aham Faircloug\"}, \" rhymes with eyes\": {\"frequency\": 1, \"value\": \" rhymes with eyes\"}, \"EF\": {\"frequency\": 2, \"value\": \"EF\"}, \"rilee00\": {\"frequency\": 1, \"value\": \"rilee00\"}, \"l\\\\xc3\\\\xa1D\\\\xe2\\\\x84\\\\xa2 Tec\": {\"frequency\": 1, \"value\": \"l\\\\xc3\\\\xa1D\\\\xe2\\\\x84 ...\"}, \"rrell Bouldi\": {\"frequency\": 1, \"value\": \"rrell Bouldi\"}, \"hn Muriang\": {\"frequency\": 3, \"value\": \"hn Muriang\"}, \"ngdon Bosarg\": {\"frequency\": 1, \"value\": \"ngdon Bosarg\"}, \"rch For Scienc\": {\"frequency\": 1, \"value\": \"rch For Scienc\"}, \"istool\": {\"frequency\": 1, \"value\": \"istool\"}, \"izent Marketin\": {\"frequency\": 1, \"value\": \"izent Marketin\"}, \"donesia IN\": {\"frequency\": 2, \"value\": \"donesia IN\"}, \"London Ne\": {\"frequency\": 1, \"value\": \"London Ne\"}, \"chael B. Kin\": {\"frequency\": 1, \"value\": \"chael B. Kin\"}, \"adiator Staci\": {\"frequency\": 1, \"value\": \"adiator Staci\"}, \"tar Updat\": {\"frequency\": 2, \"value\": \"tar Updat\"}, \"(Alice Bluebell))\": {\"frequency\": 1, \"value\": \"(Alice Bluebell))\"}, \"w\": {\"frequency\": 2, \"value\": \"w\"}, \"vid Lahey, MB\": {\"frequency\": 1, \"value\": \"vid Lahey, MB\"}, \"ank Langenfel\": {\"frequency\": 1, \"value\": \"ank Langenfel\"}, \"ura pop\": {\"frequency\": 1, \"value\": \"ura pop\"}, \"rge Orti\": {\"frequency\": 1, \"value\": \"rge Orti\"}, \"kers & Mentor\": {\"frequency\": 1, \"value\": \"kers & Mentor\"}, \"nia Livingston\": {\"frequency\": 1, \"value\": \"nia Livingston\"}, \"oomber\": {\"frequency\": 1, \"value\": \"oomber\"}, \"oveHackinMw\": {\"frequency\": 2, \"value\": \"oveHackinMw\"}, \" Press Worl\": {\"frequency\": 1, \"value\": \" Press Worl\"}, \"orgina Car\": {\"frequency\": 1, \"value\": \"orgina Car\"}, \"ni Gurun\": {\"frequency\": 1, \"value\": \"ni Gurun\"}, \"ily Mail U.K\": {\"frequency\": 1, \"value\": \"ily Mail U.K\"}, \"wa Afrid\": {\"frequency\": 1, \"value\": \"wa Afrid\"}, \"ian Hame\": {\"frequency\": 1, \"value\": \"ian Hame\"}, \"berTater\": {\"frequency\": 3, \"value\": \"berTater\"}, \"cardo Marque\": {\"frequency\": 1, \"value\": \"cardo Marque\"}, \"Jesus Arreol\": {\"frequency\": 1, \"value\": \"Jesus Arreol\"}, \"tila G\": {\"frequency\": 1, \"value\": \"tila G\"}, \"dian News Medi\": {\"frequency\": 2, \"value\": \"dian News Medi\"}, \"drew Parke\": {\"frequency\": 2, \"value\": \"drew Parke\"}, \"y Tunca\": {\"frequency\": 1, \"value\": \"y Tunca\"}, \"e Mclare\": {\"frequency\": 1, \"value\": \"e Mclare\"}, \"chaela Schol\": {\"frequency\": 1, \"value\": \"chaela Schol\"}, \"diaverse\\\\xc2\\\\xa\": {\"frequency\": 1, \"value\": \"diaverse\\\\xc2\\\\xa\"}, \"d0\\\\x9d\\\\xd0\\\\xb0\\\\xd1\\\\x82\\\\xd0\\\\xb0\\\\xd0\\\\xbb\\\\xd1\\\\x8c\\\\xd1\\\\x8f \\\\xd0\\\\x9a\\\\xd0\\\\xbe\\\\xd0\\\\xbc\\\\xd0\\\\xbb\\\\xd0\\\\xb5\\\\xd0\\\\xb2\\\\xd0\\\\xb\": {\"frequency\": 1, \"value\": \"d0\\\\x9d\\\\xd0\\\\xb0\\\\xd1 ...\"}, \"odoro Luja\": {\"frequency\": 1, \"value\": \"odoro Luja\"}, \"sie G\": {\"frequency\": 1, \"value\": \"sie G\"}, \"lene Deplanch\": {\"frequency\": 1, \"value\": \"lene Deplanch\"}, \"G_LatAmCari\": {\"frequency\": 1, \"value\": \"G_LatAmCari\"}, \"vid Videcett\": {\"frequency\": 1, \"value\": \"vid Videcett\"}, \"eKilguar\": {\"frequency\": 2, \"value\": \"eKilguar\"}, \"dia Pere\": {\"frequency\": 1, \"value\": \"dia Pere\"}, \"ay \\\\xef\\\\xa3\\\\xac \\\\xef\\\\xa3\\\\xb\": {\"frequency\": 1, \"value\": \"ay \\\\xef\\\\xa3\\\\xac ...\"}, \"reatMete\": {\"frequency\": 1, \"value\": \"reatMete\"}, \"m mauriell\": {\"frequency\": 1, \"value\": \"m mauriell\"}, \"dOw\": {\"frequency\": 1, \"value\": \"dOw\"}, \"TheGroundNews.c\": {\"frequency\": 1, \"value\": \"TheGroundNews.c\"}, \"ndra Halifa\": {\"frequency\": 2, \"value\": \"ndra Halifa\"}, \"efanie Holme\": {\"frequency\": 1, \"value\": \"efanie Holme\"}, \"rley Khaan\": {\"frequency\": 1, \"value\": \"rley Khaan\"}, \"vid J Dento\": {\"frequency\": 1, \"value\": \"vid J Dento\"}, \"rangoitzta\": {\"frequency\": 1, \"value\": \"rangoitzta\"}, \"ckO\": {\"frequency\": 1, \"value\": \"ckO\"}, \"e Clarion-Ledge\": {\"frequency\": 1, \"value\": \"e Clarion-Ledge\"}, \"zanne Costell\": {\"frequency\": 1, \"value\": \"zanne Costell\"}, \"isMagi\": {\"frequency\": 2, \"value\": \"isMagi\"}, \"incipality I\": {\"frequency\": 1, \"value\": \"incipality I\"}, \"a Party Tomm\": {\"frequency\": 2, \"value\": \"a Party Tomm\"}, \"win Spear\": {\"frequency\": 1, \"value\": \"win Spear\"}, \"ko\": {\"frequency\": 1, \"value\": \"ko\"}, \"vier Villalb\": {\"frequency\": 1, \"value\": \"vier Villalb\"}, \"cheochoc\": {\"frequency\": 1, \"value\": \"cheochoc\"}, \"ws of politics\\\\xf0\\\\x9f\\\\x87\\\\xba\\\\xf0\\\\x9f\\\\x87\\\\xb\": {\"frequency\": 2, \"value\": \"ws of politics\\\\xf0 ...\"}, \"T-ATUDE\": {\"frequency\": 1, \"value\": \"T-ATUDE\"}, \"link\": {\"frequency\": 1, \"value\": \"link\"}, \"nae Stevill\": {\"frequency\": 1, \"value\": \"nae Stevill\"}, \"jor Victor Brav\": {\"frequency\": 2, \"value\": \"jor Victor Brav\"}, \"uisinternew\": {\"frequency\": 2, \"value\": \"uisinternew\"}, \"rld Conservativ\": {\"frequency\": 2, \"value\": \"rld Conservativ\"}, \"tcoinAgil\": {\"frequency\": 1, \"value\": \"tcoinAgil\"}, \"rico Valenzuel\": {\"frequency\": 2, \"value\": \"rico Valenzuel\"}, \"oomberg Canad\": {\"frequency\": 1, \"value\": \"oomberg Canad\"}, \"shi Jos\": {\"frequency\": 1, \"value\": \"shi Jos\"}, \"xe2\\\\x9c\\\\x8c\\\\xf0\\\\x9f\\\\x8f\\\\xb\": {\"frequency\": 1, \"value\": \"xe2\\\\x9c\\\\x8c\\\\xf0\\\\x9 ...\"}, \"volutionsell\": {\"frequency\": 1, \"value\": \"volutionsell\"}, \"taTransparencyLa\": {\"frequency\": 1, \"value\": \"taTransparencyLa\"}, \"ivaram jahgirda\": {\"frequency\": 1, \"value\": \"ivaram jahgirda\"}, \"nand \\\\xe2\\\\x9d\\\\x84\\\\xef\\\\xb8\\\\x8\": {\"frequency\": 1, \"value\": \"nand \\\\xe2\\\\x9d\\\\x84\\\\ ...\"}, \"n Cont\": {\"frequency\": 1, \"value\": \"n Cont\"}, \"LEYDI \": {\"frequency\": 1, \"value\": \"LEYDI\"}, \"chStats 25\": {\"frequency\": 1, \"value\": \"chStats 25\"}, \" m. mercad\": {\"frequency\": 1, \"value\": \" m. mercad\"}, \"trick Slavi\": {\"frequency\": 1, \"value\": \"trick Slavi\"}, \"\\\\xc5\\\\xbeena Koko\": {\"frequency\": 1, \"value\": \"\\\\xc5\\\\xbeena Koko\"}, \"ld Canuck (Keith\": {\"frequency\": 1, \"value\": \"ld Canuck (Keith\"}, \"oxvillebi\": {\"frequency\": 2, \"value\": \"oxvillebi\"}, \"lber World New\": {\"frequency\": 2, \"value\": \"lber World New\"}, \"owYourLeakGu\": {\"frequency\": 1, \"value\": \"owYourLeakGu\"}, \"nnifer Robertso\": {\"frequency\": 1, \"value\": \"nnifer Robertso\"}, \"USBiz \\\\xf0\\\\x9f\\\\x87\\\\xa6\\\\xf0\\\\x9f\\\\x87\\\\xb\": {\"frequency\": 2, \"value\": \"USBiz \\\\xf0\\\\x9f\\\\x87 ...\"}, \"lcolm R. Rutledg\": {\"frequency\": 1, \"value\": \"lcolm R. Rutledg\"}, \"orSawbotto\": {\"frequency\": 1, \"value\": \"orSawbotto\"}, \"nn Greine\": {\"frequency\": 1, \"value\": \"nn Greine\"}, \"l B \\\\xe2\\\\x9c\\\\xa\": {\"frequency\": 1, \"value\": \"l B \\\\xe2\\\\x9c\\\\xa\"}, \"tthew Buc\": {\"frequency\": 1, \"value\": \"tthew Buc\"}, \"zmorat\": {\"frequency\": 1, \"value\": \"zmorat\"}, \"rtin Fros\": {\"frequency\": 1, \"value\": \"rtin Fros\"}, \"ame7\": {\"frequency\": 1, \"value\": \"ame7\"}, \"mon Mikhailovic\": {\"frequency\": 1, \"value\": \"mon Mikhailovic\"}, \"la Vato\": {\"frequency\": 1, \"value\": \"la Vato\"}, \"nor Farrel\": {\"frequency\": 1, \"value\": \"nor Farrel\"}, \"arlotte A Ate\": {\"frequency\": 1, \"value\": \"arlotte A Ate\"}, \"rldNews_ne\": {\"frequency\": 2, \"value\": \"rldNews_ne\"}, \"mon Kerckhoff\": {\"frequency\": 1, \"value\": \"mon Kerckhoff\"}, \"eative Resource\": {\"frequency\": 1, \"value\": \"eative Resource\"}, \"drea D'Ori\": {\"frequency\": 1, \"value\": \"drea D'Ori\"}, \"trick O'Mulla\": {\"frequency\": 1, \"value\": \"trick O'Mulla\"}, \"spbia\": {\"frequency\": 1, \"value\": \"spbia\"}, \" World New\": {\"frequency\": 1, \"value\": \" World New\"}, \"co Fortgens s\": {\"frequency\": 1, \"value\": \"co Fortgens s\"}, \"ic Vanderbur\": {\"frequency\": 2, \"value\": \"ic Vanderbur\"}, \"omaskutty J \": {\"frequency\": 1, \"value\": \"omaskutty J\"}, \"althcare Executiv\": {\"frequency\": 1, \"value\": \"althcare Executiv\"}, \"lene Rothschil\": {\"frequency\": 1, \"value\": \"lene Rothschil\"}, \"i Hovhannisya\": {\"frequency\": 1, \"value\": \"i Hovhannisya\"}, \"ikh\": {\"frequency\": 1, \"value\": \"ikh\"}, \"donesia Breakin\": {\"frequency\": 1, \"value\": \"donesia Breakin\"}, \"aucoup Hare\": {\"frequency\": 1, \"value\": \"aucoup Hare\"}, \"c\": {\"frequency\": 2, \"value\": \"c\"}, \"in O'Del\": {\"frequency\": 1, \"value\": \"in O'Del\"}, \"te Santill\": {\"frequency\": 1, \"value\": \"te Santill\"}, \"kkie van Rensbur\": {\"frequency\": 1, \"value\": \"kkie van Rensbur\"}, \"drew McDarb\": {\"frequency\": 1, \"value\": \"drew McDarb\"}, \"llyNight\\\\xe2\\\\x9c\\\\x9erai\": {\"frequency\": 1, \"value\": \"llyNight\\\\xe2\\\\x9c\\\\x ...\"}, \"autiful Thinkin\": {\"frequency\": 1, \"value\": \"autiful Thinkin\"}, \":detty_gir\": {\"frequency\": 2, \"value\": \":detty_gir\"}, \"d0\\\\x9e\\\\xd0\\\\xbb\\\\xd0\\\\xb5\\\\xd0\\\\xb\": {\"frequency\": 1, \"value\": \"d0\\\\x9e\\\\xd0\\\\xbb\\\\xd0 ...\"}, \"vita Oberoi OB\": {\"frequency\": 1, \"value\": \"vita Oberoi OB\"}, \"lien HYVER\": {\"frequency\": 1, \"value\": \"lien HYVER\"}, \"oxnew\": {\"frequency\": 1, \"value\": \"oxnew\"}, \"DRepublica\": {\"frequency\": 1, \"value\": \"DRepublica\"}, \"RIVE creativ\": {\"frequency\": 1, \"value\": \"RIVE creativ\"}, \"ioka\": {\"frequency\": 1, \"value\": \"ioka\"}, \"ris Hatzievagelo\": {\"frequency\": 1, \"value\": \"ris Hatzievagelo\"}, \"s M\": {\"frequency\": 1, \"value\": \"s M\"}, \"alist Javsta\": {\"frequency\": 1, \"value\": \"alist Javsta\"}, \"ichi Nnoham-\": {\"frequency\": 1, \"value\": \"ichi Nnoham-\"}, \"chell\": {\"frequency\": 1, \"value\": \"chell\"}, \"llowAndFollowNew\": {\"frequency\": 1, \"value\": \"llowAndFollowNew\"}, \"keusNew\": {\"frequency\": 2, \"value\": \"keusNew\"}, \"S Call your Rep\": {\"frequency\": 1, \"value\": \"S Call your Rep\"}, \"riberto Acost\": {\"frequency\": 1, \"value\": \"riberto Acost\"}, \"hammad Usman Anwa\": {\"frequency\": 2, \"value\": \"hammad Usman Anwa\"}, \"remy Johnso\": {\"frequency\": 1, \"value\": \"remy Johnso\"}, \"ter Treasade\": {\"frequency\": 1, \"value\": \"ter Treasade\"}, \"land\": {\"frequency\": 1, \"value\": \"land\"}, \"wscaste\": {\"frequency\": 2, \"value\": \"wscaste\"}, \"deralistMamaBea\": {\"frequency\": 1, \"value\": \"deralistMamaBea\"}, \"eaking New\": {\"frequency\": 1, \"value\": \"eaking New\"}, \"ain\": {\"frequency\": 1, \"value\": \"ain\"}, \"an Paul Rui\": {\"frequency\": 1, \"value\": \"an Paul Rui\"}, \"f0\\\\x9f\\\\x87\\\\xac\\\\xf0\\\\x9f\\\\x87\\\\xa7keep it real 52\": {\"frequency\": 1, \"value\": \"f0\\\\x9f\\\\x87\\\\xac\\\\xf0 ...\"}, \"ur901Law.co\": {\"frequency\": 1, \"value\": \"ur901Law.co\"}, \"enn Ostrosk\": {\"frequency\": 2, \"value\": \"enn Ostrosk\"}, \" Are Panda \\\\xf0\\\\x9f\\\\x90\\\\xb\": {\"frequency\": 1, \"value\": \" Are Panda ...\"}, \"omal\": {\"frequency\": 1, \"value\": \"omal\"}, \"nda Rodrigue\": {\"frequency\": 1, \"value\": \"nda Rodrigue\"}, \"ceittige\": {\"frequency\": 1, \"value\": \"ceittige\"}, \"it\": {\"frequency\": 1, \"value\": \"it\"}, \"x News Pakista\": {\"frequency\": 2, \"value\": \"x News Pakista\"}, \"ience Kingpi\": {\"frequency\": 1, \"value\": \"ience Kingpi\"}, \"bert Easto\": {\"frequency\": 1, \"value\": \"bert Easto\"}, \"us Ano\": {\"frequency\": 1, \"value\": \"us Ano\"}, \"nio freire do val\": {\"frequency\": 1, \"value\": \"nio freire do val\"}, \"gela jone\": {\"frequency\": 1, \"value\": \"gela jone\"}, \"t Sag\": {\"frequency\": 2, \"value\": \"t Sag\"}, \"f0\\\\x9f\\\\x9a\\\\xa\": {\"frequency\": 1, \"value\": \"f0\\\\x9f\\\\x9a\\\\xa\"}, \"rsty Lam\": {\"frequency\": 1, \"value\": \"rsty Lam\"}, \"ngzT\": {\"frequency\": 1, \"value\": \"ngzT\"}, \"n McLea\": {\"frequency\": 1, \"value\": \"n McLea\"}, \"ki Jarvi\": {\"frequency\": 1, \"value\": \"ki Jarvi\"}, \" Tech Worl\": {\"frequency\": 1, \"value\": \" Tech Worl\"}, \"mil Ouazzan\": {\"frequency\": 1, \"value\": \"mil Ouazzan\"}, \"wseeu\": {\"frequency\": 2, \"value\": \"wseeu\"}, \"test_tech_U\": {\"frequency\": 1, \"value\": \"test_tech_U\"}, \"ness\": {\"frequency\": 1, \"value\": \"ness\"}, \"te Arde\": {\"frequency\": 1, \"value\": \"te Arde\"}, \"no jaco\": {\"frequency\": 1, \"value\": \"no jaco\"}, \"eryl Campbel\": {\"frequency\": 2, \"value\": \"eryl Campbel\"}, \"lorado ki\": {\"frequency\": 1, \"value\": \"lorado ki\"}, \"yf\": {\"frequency\": 1, \"value\": \"yf\"}, \"or Druzovi\": {\"frequency\": 1, \"value\": \"or Druzovi\"}, \"inton godsel\": {\"frequency\": 1, \"value\": \"inton godsel\"}, \"i\": {\"frequency\": 3, \"value\": \"i\"}, \"illermo Barb\": {\"frequency\": 1, \"value\": \"illermo Barb\"}, \"sh Coole\": {\"frequency\": 1, \"value\": \"sh Coole\"}, \"ailability Diges\": {\"frequency\": 1, \"value\": \"ailability Diges\"}, \"ith Erwoo\": {\"frequency\": 1, \"value\": \"ith Erwoo\"}, \"ex Simoneli\": {\"frequency\": 1, \"value\": \"ex Simoneli\"}, \"ashant J Pate\": {\"frequency\": 1, \"value\": \"ashant J Pate\"}, \"n Worl\": {\"frequency\": 1, \"value\": \"n Worl\"}, \"KE WOLF\": {\"frequency\": 1, \"value\": \"KE WOLF\"}, \"orts Worl\": {\"frequency\": 1, \"value\": \"orts Worl\"}, \"roCyberSecurit\": {\"frequency\": 1, \"value\": \"roCyberSecurit\"}, \"DUE.com Support I\": {\"frequency\": 4, \"value\": \"DUE.com Support I\"}, \"rlo van Wy\": {\"frequency\": 2, \"value\": \"rlo van Wy\"}, \"ee zon\": {\"frequency\": 1, \"value\": \"ee zon\"}, \"eed finisher\": {\"frequency\": 1, \"value\": \"eed finisher\"}, \"n\": {\"frequency\": 1, \"value\": \"n\"}, \"lTheBestNew\": {\"frequency\": 2, \"value\": \"lTheBestNew\"}, \"us Spak\": {\"frequency\": 1, \"value\": \"us Spak\"}, \"tti Summer\": {\"frequency\": 1, \"value\": \"tti Summer\"}, \"opy\": {\"frequency\": 1, \"value\": \"opy\"}, \"an Smit\": {\"frequency\": 2, \"value\": \"an Smit\"}, \"d8\\\\xb0\\\\xd9\\\\x83\\\\xd8\\\\xb1\\\\xd9\\\\x8a\\\\xd8\\\\xa7\\\\xd8\\\\xa\": {\"frequency\": 1, \"value\": \"d8\\\\xb0\\\\xd9\\\\x83\\\\xd8 ...\"}, \"d9\\\\x85\\\\xd9\\\\x8f\\\\xd9\\\\x80\\\\xd9\\\\x80\\\\xd8\\\\xad\\\\xd9\\\\x8e\\\\xd9\\\\x80\\\\xd9\\\\x80\\\\xd9\\\\x80\\\\xd9\\\\x85\\\\xd9\\\\x8e\\\\xd9\\\\x91\\\\xd9\\\\x80\\\\xd9\\\\x80\\\\xd8\\\\xa\": {\"frequency\": 1, \"value\": \"d9\\\\x85\\\\xd9\\\\x8f\\\\xd9 ...\"}, \"A Media In\": {\"frequency\": 1, \"value\": \"A Media In\"}, \"ris Sprat\": {\"frequency\": 1, \"value\": \"ris Sprat\"}, \"sar Landeros \\\\xe2\\\\x9a\\\\x93\\\\xef\\\\xb8\\\\x8\": {\"frequency\": 1, \"value\": \"sar Landeros \\\\xe2\\\\ ...\"}, \"eAmericanDogPart\": {\"frequency\": 4, \"value\": \"eAmericanDogPart\"}, \"rlos Brito Suiss\": {\"frequency\": 1, \"value\": \"rlos Brito Suiss\"}, \"day for Samsung U\": {\"frequency\": 1, \"value\": \"day for Samsung U\"}, \"n B\": {\"frequency\": 1, \"value\": \"n B\"}, \"e2\\\\x99\\\\xa5 n\\\\xe2\\\\x95\\\\xb0\\\\xe2\\\\x95\\\\xae\\\\xe2\\\\x95\\\\xafo\\\\xe2\\\\x95\\\\xb0\\\\xe2\\\\x95\\\\xae\\\\xe2\\\\x95\\\\xafs\\\\xe2\\\\x95\\\\xb0\\\\xe2\\\\x95\\\\xae\\\\xe2\\\\x95\\\\xafa\\\\xe2\\\\x95\\\\xb0\\\\xe2\\\\x95\\\\xae\\\\xe2\\\\x95\\\\xa\": {\"frequency\": 1, \"value\": \"e2\\\\x99\\\\xa5 n\\\\xe2\\\\x ...\"}, \"litic\": {\"frequency\": 1, \"value\": \"litic\"}, \"raEur\": {\"frequency\": 1, \"value\": \"raEur\"}, \"sic Worl\": {\"frequency\": 1, \"value\": \"sic Worl\"}, \"l\": {\"frequency\": 1, \"value\": \"l\"}, \"ella Storm \\\\xf0\\\\x9f\\\\x91\\\\x8\": {\"frequency\": 1, \"value\": \"ella Storm ...\"}, \"of Roger Kirb\": {\"frequency\": 1, \"value\": \"of Roger Kirb\"}, \"nservativeChitCha\": {\"frequency\": 1, \"value\": \"nservativeChitCha\"}, \"dra Filipesc\": {\"frequency\": 1, \"value\": \"dra Filipesc\"}, \"test New\": {\"frequency\": 2, \"value\": \"test New\"}, \"anna Catin\": {\"frequency\": 1, \"value\": \"anna Catin\"}, \"adley Dod\": {\"frequency\": 1, \"value\": \"adley Dod\"}, \"S Education Svc\": {\"frequency\": 1, \"value\": \"S Education Svc\"}, \"cinthia Jone\": {\"frequency\": 1, \"value\": \"cinthia Jone\"}, \"imate Realist\": {\"frequency\": 1, \"value\": \"imate Realist\"}, \"obal Report\": {\"frequency\": 1, \"value\": \"obal Report\"}, \"eda fole\": {\"frequency\": 1, \"value\": \"eda fole\"}, \"ve News Fee\": {\"frequency\": 2, \"value\": \"ve News Fee\"}, \"e Baptis\": {\"frequency\": 1, \"value\": \"e Baptis\"}, \"amz9\": {\"frequency\": 1, \"value\": \"amz9\"}, \"roon Majee\": {\"frequency\": 1, \"value\": \"roon Majee\"}, \"BEL !!\": {\"frequency\": 1, \"value\": \"BEL !!\"}, \"hn Crusade\": {\"frequency\": 1, \"value\": \"hn Crusade\"}, \"colas Morissett\": {\"frequency\": 1, \"value\": \"colas Morissett\"}, \" Mervyn Graham Es\": {\"frequency\": 1, \"value\": \" Mervyn Graham Es\"}, \"e Fernande\": {\"frequency\": 1, \"value\": \"e Fernande\"}, \"ssica Merke\": {\"frequency\": 1, \"value\": \"ssica Merke\"}, \"vid Ni\": {\"frequency\": 1, \"value\": \"vid Ni\"}, \"nnis Usl\": {\"frequency\": 1, \"value\": \"nnis Usl\"}, \"eCyberRis\": {\"frequency\": 1, \"value\": \"eCyberRis\"}, \"san Le\": {\"frequency\": 1, \"value\": \"san Le\"}, \"jesh k\": {\"frequency\": 1, \"value\": \"jesh k\"}, \"vid Marti\": {\"frequency\": 2, \"value\": \"vid Marti\"}, \"ughter Zhivag\": {\"frequency\": 1, \"value\": \"ughter Zhivag\"}, \"art Valu\": {\"frequency\": 1, \"value\": \"art Valu\"}, \"n, Sea and Island\": {\"frequency\": 1, \"value\": \"n, Sea and Island\"}, \"n landi\": {\"frequency\": 1, \"value\": \"n landi\"}, \"rol Duffi\": {\"frequency\": 1, \"value\": \"rol Duffi\"}, \"hn E Jefferso\": {\"frequency\": 1, \"value\": \"hn E Jefferso\"}, \"rren Waddu\": {\"frequency\": 1, \"value\": \"rren Waddu\"}, \"rld Wide News\": {\"frequency\": 1, \"value\": \"rld Wide News\"}, \"f0\\\\x9f\\\\x92\\\\xac\\\\xe2\\\\x9c\\\\x8\": {\"frequency\": 1, \"value\": \"f0\\\\x9f\\\\x92\\\\xac\\\\xe2 ...\"}, \"ias M. Saboteu\": {\"frequency\": 1, \"value\": \"ias M. Saboteu\"}, \"cure Dud\": {\"frequency\": 1, \"value\": \"cure Dud\"}, \"tandWithTrump\\\\xf0\\\\x9f\\\\x8d\\\\xa6\\\\xf0\\\\x9f\\\\x8d\\\\xa\": {\"frequency\": 1, \"value\": \"tandWithTrump\\\\xf0\\\\ ...\"}, \"naka dosh\": {\"frequency\": 1, \"value\": \"naka dosh\"}, \"rendra Singh46065\": {\"frequency\": 1, \"value\": \"rendra Singh46065\"}, \"m kelle\": {\"frequency\": 1, \"value\": \"m kelle\"}, \"bert\": {\"frequency\": 1, \"value\": \"bert\"}, \"A New\": {\"frequency\": 2, \"value\": \"A New\"}, \"idi Chamber\": {\"frequency\": 1, \"value\": \"idi Chamber\"}, \"ws On Fir\": {\"frequency\": 2, \"value\": \"ws On Fir\"}, \"aton\": {\"frequency\": 1, \"value\": \"aton\"}, \"rl hyman\": {\"frequency\": 1, \"value\": \"rl hyman\"}, \"ephen \\\\xd9\\\\x86 \\\\xf0\\\\x9f\\\\x87\\\\xba\\\\xf0\\\\x9f\\\\x87\\\\xb8\\\\xf0\\\\x9f\\\\x87\\\\xae\\\\xf0\\\\x9f\\\\x87\\\\xb\": {\"frequency\": 1, \"value\": \"ephen \\\\xd9\\\\x86 \\\\xf ...\"}, \"ul Drury- Securit\": {\"frequency\": 1, \"value\": \"ul Drury- Securit\"}, \"br\\\\xc3\\\\xadcio Vitorin\": {\"frequency\": 1, \"value\": \"br\\\\xc3\\\\xadcio ...\"}, \"ar sly\": {\"frequency\": 1, \"value\": \"ar sly\"}, \"TPaulRever\": {\"frequency\": 1, \"value\": \"TPaulRever\"}, \"omas Mann Mille\": {\"frequency\": 1, \"value\": \"omas Mann Mille\"}, \"gdog0201\": {\"frequency\": 2, \"value\": \"gdog0201\"}, \"ce\\\\xb7\\\\xd1\\\\x94\\\\xcf\\\\x89\\\\xd1\\\\x95\": {\"frequency\": 1, \"value\": \"ce\\\\xb7\\\\xd1\\\\x94\\\\xcf ...\"}, \"ily Mail Australi\": {\"frequency\": 1, \"value\": \"ily Mail Australi\"}, \"uc\": {\"frequency\": 1, \"value\": \"uc\"}, \"hn Douglas-Davie\": {\"frequency\": 1, \"value\": \"hn Douglas-Davie\"}, \"ro kew\": {\"frequency\": 1, \"value\": \"ro kew\"}, \"f0\\\\x9f\\\\x87\\\\xba\\\\xf0\\\\x9f\\\\x87\\\\xb8 yvonne burto\": {\"frequency\": 2, \"value\": \"f0\\\\x9f\\\\x87\\\\xba\\\\xf0 ...\"}, \"ry Lon\": {\"frequency\": 1, \"value\": \"ry Lon\"}, \"nel Francisquet\": {\"frequency\": 1, \"value\": \"nel Francisquet\"}, \"Karne\": {\"frequency\": 1, \"value\": \"Karne\"}, \"m\": {\"frequency\": 1, \"value\": \"m\"}, \"etchardtheca\": {\"frequency\": 1, \"value\": \"etchardtheca\"}, \"an\": {\"frequency\": 1, \"value\": \"an\"}, \"trick Sono\": {\"frequency\": 1, \"value\": \"trick Sono\"}, \"tasha Jone\": {\"frequency\": 2, \"value\": \"tasha Jone\"}, \"nd\": {\"frequency\": 1, \"value\": \"nd\"}, \"eFatRepublica\": {\"frequency\": 2, \"value\": \"eFatRepublica\"}, \"D Homes In\": {\"frequency\": 1, \"value\": \"D Homes In\"}, \"ephanie Ge\": {\"frequency\": 1, \"value\": \"ephanie Ge\"}, \"rolyn A. Ruckma\": {\"frequency\": 1, \"value\": \"rolyn A. Ruckma\"}, \"T.C\": {\"frequency\": 1, \"value\": \"T.C\"}, \"egory Karri\": {\"frequency\": 1, \"value\": \"egory Karri\"}, \"na de Lass\": {\"frequency\": 1, \"value\": \"na de Lass\"}, \"driy Zhmayl\": {\"frequency\": 1, \"value\": \"driy Zhmayl\"}, \"A NEW\": {\"frequency\": 2, \"value\": \"A NEW\"}, \"urentiu B \": {\"frequency\": 1, \"value\": \"urentiu B\"}, \"ke Hurs\": {\"frequency\": 1, \"value\": \"ke Hurs\"}, \"aptiv\": {\"frequency\": 1, \"value\": \"aptiv\"}, \"ckles U Fat Ge\": {\"frequency\": 1, \"value\": \"ckles U Fat Ge\"}, \"rold Gate\": {\"frequency\": 1, \"value\": \"rold Gate\"}, \"e\": {\"frequency\": 3, \"value\": \"e\"}, \"ttle'bir\": {\"frequency\": 1, \"value\": \"ttle'bir\"}, \"mie Adam\": {\"frequency\": 1, \"value\": \"mie Adam\"}, \"ane Malon\": {\"frequency\": 1, \"value\": \"ane Malon\"}, \"otk1\": {\"frequency\": 1, \"value\": \"otk1\"}, \"c New\": {\"frequency\": 1, \"value\": \"c New\"}}, \"size\": 578}, \"selected_variable\": {\"name\": [\"<SArray>\"], \"dtype\": \"str\", \"view_component\": \"Categorical\", \"view_file\": \"sarray\", \"descriptives\": {\"rows\": 578}, \"type\": \"SArray\", \"view_components\": [\"Categorical\"]}, \"histogram\": null}, e);\n",
       "                });\n",
       "            })();\n",
       "        "
      ]
     },
     "metadata": {},
     "output_type": "display_data"
    }
   ],
   "source": [
    "sf['username'].show(view='Categorical')"
   ]
  },
  {
   "cell_type": "code",
   "execution_count": 75,
   "metadata": {},
   "outputs": [
    {
     "data": {
      "application/javascript": [
       "$(\"head\").append($(\"<link/>\").attr({\n",
       "  rel:  \"stylesheet\",\n",
       "  type: \"text/css\",\n",
       "  href: \"//cdnjs.cloudflare.com/ajax/libs/font-awesome/4.1.0/css/font-awesome.min.css\"\n",
       "}));\n",
       "$(\"head\").append($(\"<link/>\").attr({\n",
       "  rel:  \"stylesheet\",\n",
       "  type: \"text/css\",\n",
       "  href: \"https://static.turi.com/products/graphlab-create/2.1/canvas/css/canvas.css\"\n",
       "}));\n",
       "\n",
       "            (function(){\n",
       "\n",
       "                var e = null;\n",
       "                if (typeof element == 'undefined') {\n",
       "                    var scripts = document.getElementsByTagName('script');\n",
       "                    var thisScriptTag = scripts[scripts.length-1];\n",
       "                    var parentDiv = thisScriptTag.parentNode;\n",
       "                    e = document.createElement('div');\n",
       "                    parentDiv.appendChild(e);\n",
       "                } else {\n",
       "                    e = element[0];\n",
       "                }\n",
       "\n",
       "                if (typeof requirejs !== 'undefined') {\n",
       "                    // disable load timeout; ipython_app.js is large and can take a while to load.\n",
       "                    requirejs.config({waitSeconds: 0});\n",
       "                }\n",
       "\n",
       "                require(['https://static.turi.com/products/graphlab-create/2.1/canvas/js/ipython_app.js'], function(IPythonApp){\n",
       "                    var app = new IPythonApp();\n",
       "                    app.attachView('sarray','Categorical', {\"ipython\": true, \"sketch\": {\"complete\": true, \"numeric\": false, \"num_unique\": 44, \"num_undefined\": 0, \"progress\": 1.0, \"frequent_items\": {\"Malware\": {\"frequency\": 1, \"value\": \"Malware\"}, \"wannadecryptor\": {\"frequency\": 1, \"value\": \"wannadecryptor\"}, \"USA\": {\"frequency\": 3, \"value\": \"USA\"}, \"ransomware\": {\"frequency\": 1, \"value\": \"ransomware\"}, \"foxnews\": {\"frequency\": 3, \"value\": \"foxnews\"}, \"cyber\": {\"frequency\": 1, \"value\": \"cyber\"}, \"Windows10\": {\"frequency\": 1, \"value\": \"Windows10\"}, \"WithFewExceptions\": {\"frequency\": 1, \"value\": \"WithFewExceptions\"}, \"hack\": {\"frequency\": 2, \"value\": \"hack\"}, \"HB\": {\"frequency\": 2, \"value\": \"HB\"}, \"politics\": {\"frequency\": 2, \"value\": \"politics\"}, \"NHScyberattack\": {\"frequency\": 4, \"value\": \"NHScyberattack\"}, \"insiderthreat\": {\"frequency\": 1, \"value\": \"insiderthreat\"}, \"HAN\": {\"frequency\": 2, \"value\": \"HAN\"}, \"privacy\": {\"frequency\": 7, \"value\": \"privacy\"}, \"factom\": {\"frequency\": 5, \"value\": \"factom\"}, \"fox\": {\"frequency\": 1, \"value\": \"fox\"}, \"attack\": {\"frequency\": 1, \"value\": \"attack\"}, \"fedex\": {\"frequency\": 1, \"value\": \"fedex\"}, \"aus\": {\"frequency\": 3, \"value\": \"aus\"}, \"NHS\": {\"frequency\": 5, \"value\": \"NHS\"}, \"News\": {\"frequency\": 2, \"value\": \"News\"}, \"friyay\": {\"frequency\": 1, \"value\": \"friyay\"}, \"None\": {\"frequency\": 472, \"value\": \"None\"}, \"G\": {\"frequency\": 4, \"value\": \"G\"}, \"RANSOMWARE\": {\"frequency\": 2, \"value\": \"RANSOMWARE\"}, \"CyberSecurity\": {\"frequency\": 1, \"value\": \"CyberSecurity\"}, \"NewslyTweet\": {\"frequency\": 2, \"value\": \"NewslyTweet\"}, \"breakingnews\": {\"frequency\": 2, \"value\": \"breakingnews\"}, \"NHScyberattacks\": {\"frequency\": 3, \"value\": \"NHScyberattacks\"}, \"cyberattack\": {\"frequency\": 14, \"value\": \"cyberattack\"}, \"news\": {\"frequency\": 5, \"value\": \"news\"}, \"XP\": {\"frequency\": 3, \"value\": \"XP\"}, \"Cybersecurity\": {\"frequency\": 2, \"value\": \"Cybersecurity\"}, \"Ransomware\": {\"frequency\": 6, \"value\": \"Ransomware\"}, \"windows\": {\"frequency\": 1, \"value\": \"windows\"}, \"FOXNEWS\": {\"frequency\": 2, \"value\": \"FOXNEWS\"}, \"Cyber\": {\"frequency\": 1, \"value\": \"Cyber\"}, \"FedEx\": {\"frequency\": 1, \"value\": \"FedEx\"}, \"AiMRT\": {\"frequency\": 1, \"value\": \"AiMRT\"}, \"stuxnet\": {\"frequency\": 1, \"value\": \"stuxnet\"}, \"tech\": {\"frequency\": 2, \"value\": \"tech\"}, \"Hack\": {\"frequency\": 1, \"value\": \"Hack\"}, \"Headlines\": {\"frequency\": 1, \"value\": \"Headlines\"}}, \"size\": 578}, \"selected_variable\": {\"name\": [\"<SArray>\"], \"dtype\": \"str\", \"view_component\": \"Categorical\", \"view_file\": \"sarray\", \"descriptives\": {\"rows\": 578}, \"type\": \"SArray\", \"view_components\": [\"Categorical\"]}, \"histogram\": null}, e);\n",
       "                });\n",
       "            })();\n",
       "        "
      ]
     },
     "metadata": {},
     "output_type": "display_data"
    }
   ],
   "source": [
    "sf['hashtag'].show(view='Categorical')"
   ]
  },
  {
   "cell_type": "markdown",
   "metadata": {},
   "source": [
    "# Estatística descritiva com GraphLab"
   ]
  },
  {
   "cell_type": "code",
   "execution_count": 76,
   "metadata": {},
   "outputs": [
    {
     "data": {
      "text/plain": [
       "46.069204152249135"
      ]
     },
     "execution_count": 76,
     "metadata": {},
     "output_type": "execute_result"
    }
   ],
   "source": [
    "sf['retwc'].mean()"
   ]
  },
  {
   "cell_type": "code",
   "execution_count": 77,
   "metadata": {},
   "outputs": [
    {
     "data": {
      "text/plain": [
       "364"
      ]
     },
     "execution_count": 77,
     "metadata": {},
     "output_type": "execute_result"
    }
   ],
   "source": [
    "sf['retwc'].max()"
   ]
  },
  {
   "cell_type": "code",
   "execution_count": 78,
   "metadata": {},
   "outputs": [
    {
     "data": {
      "text/plain": [
       "0"
      ]
     },
     "execution_count": 78,
     "metadata": {},
     "output_type": "execute_result"
    }
   ],
   "source": [
    "sf['retwc'].min()"
   ]
  },
  {
   "cell_type": "code",
   "execution_count": 82,
   "metadata": {},
   "outputs": [
    {
     "data": {
      "text/plain": [
       "26628"
      ]
     },
     "execution_count": 82,
     "metadata": {},
     "output_type": "execute_result"
    }
   ],
   "source": [
    "sf['retwc'].sum()"
   ]
  }
 ],
 "metadata": {
  "anaconda-cloud": {},
  "kernelspec": {
   "display_name": "Python [conda env:gl-env]",
   "language": "python",
   "name": "conda-env-gl-env-py"
  },
  "language_info": {
   "codemirror_mode": {
    "name": "ipython",
    "version": 2
   },
   "file_extension": ".py",
   "mimetype": "text/x-python",
   "name": "python",
   "nbconvert_exporter": "python",
   "pygments_lexer": "ipython2",
   "version": "2.7.11"
  }
 },
 "nbformat": 4,
 "nbformat_minor": 1
}
